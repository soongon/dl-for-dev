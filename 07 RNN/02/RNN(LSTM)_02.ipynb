{
 "cells": [
  {
   "cell_type": "markdown",
   "metadata": {},
   "source": [
    "# RNN(RSTM) Exercise 02\n",
    "Import Libraries & Process Data"
   ]
  },
  {
   "cell_type": "code",
   "execution_count": 1,
   "metadata": {},
   "outputs": [],
   "source": [
    "import numpy as np\n",
    "import matplotlib.pyplot as plt\n",
    "import pandas as pd\n",
    "from tensorflow import random"
   ]
  },
  {
   "cell_type": "code",
   "execution_count": 2,
   "metadata": {},
   "outputs": [
    {
     "data": {
      "text/html": [
       "<div>\n",
       "<style scoped>\n",
       "    .dataframe tbody tr th:only-of-type {\n",
       "        vertical-align: middle;\n",
       "    }\n",
       "\n",
       "    .dataframe tbody tr th {\n",
       "        vertical-align: top;\n",
       "    }\n",
       "\n",
       "    .dataframe thead th {\n",
       "        text-align: right;\n",
       "    }\n",
       "</style>\n",
       "<table border=\"1\" class=\"dataframe\">\n",
       "  <thead>\n",
       "    <tr style=\"text-align: right;\">\n",
       "      <th></th>\n",
       "      <th>Date</th>\n",
       "      <th>Open</th>\n",
       "      <th>High</th>\n",
       "      <th>Low</th>\n",
       "      <th>Close</th>\n",
       "      <th>Adj Close</th>\n",
       "      <th>Volume</th>\n",
       "    </tr>\n",
       "  </thead>\n",
       "  <tbody>\n",
       "    <tr>\n",
       "      <th>0</th>\n",
       "      <td>2014-01-02</td>\n",
       "      <td>555.647278</td>\n",
       "      <td>556.788025</td>\n",
       "      <td>552.060730</td>\n",
       "      <td>554.481689</td>\n",
       "      <td>554.481689</td>\n",
       "      <td>3656400</td>\n",
       "    </tr>\n",
       "    <tr>\n",
       "      <th>1</th>\n",
       "      <td>2014-01-03</td>\n",
       "      <td>555.418152</td>\n",
       "      <td>556.379578</td>\n",
       "      <td>550.401978</td>\n",
       "      <td>550.436829</td>\n",
       "      <td>550.436829</td>\n",
       "      <td>3345800</td>\n",
       "    </tr>\n",
       "    <tr>\n",
       "      <th>2</th>\n",
       "      <td>2014-01-06</td>\n",
       "      <td>554.426880</td>\n",
       "      <td>557.340942</td>\n",
       "      <td>551.154114</td>\n",
       "      <td>556.573853</td>\n",
       "      <td>556.573853</td>\n",
       "      <td>3551800</td>\n",
       "    </tr>\n",
       "    <tr>\n",
       "      <th>3</th>\n",
       "      <td>2014-01-07</td>\n",
       "      <td>560.399475</td>\n",
       "      <td>567.717041</td>\n",
       "      <td>558.486633</td>\n",
       "      <td>567.303589</td>\n",
       "      <td>567.303589</td>\n",
       "      <td>5124300</td>\n",
       "    </tr>\n",
       "    <tr>\n",
       "      <th>4</th>\n",
       "      <td>2014-01-08</td>\n",
       "      <td>570.860291</td>\n",
       "      <td>571.517822</td>\n",
       "      <td>564.528992</td>\n",
       "      <td>568.484192</td>\n",
       "      <td>568.484192</td>\n",
       "      <td>4501700</td>\n",
       "    </tr>\n",
       "  </tbody>\n",
       "</table>\n",
       "</div>"
      ],
      "text/plain": [
       "         Date        Open        High         Low       Close   Adj Close  \\\n",
       "0  2014-01-02  555.647278  556.788025  552.060730  554.481689  554.481689   \n",
       "1  2014-01-03  555.418152  556.379578  550.401978  550.436829  550.436829   \n",
       "2  2014-01-06  554.426880  557.340942  551.154114  556.573853  556.573853   \n",
       "3  2014-01-07  560.399475  567.717041  558.486633  567.303589  567.303589   \n",
       "4  2014-01-08  570.860291  571.517822  564.528992  568.484192  568.484192   \n",
       "\n",
       "    Volume  \n",
       "0  3656400  \n",
       "1  3345800  \n",
       "2  3551800  \n",
       "3  5124300  \n",
       "4  4501700  "
      ]
     },
     "execution_count": 2,
     "metadata": {},
     "output_type": "execute_result"
    }
   ],
   "source": [
    "dataset_training = pd.read_csv('../GOOG_train.csv')\n",
    "dataset_training.head()"
   ]
  },
  {
   "cell_type": "code",
   "execution_count": 3,
   "metadata": {},
   "outputs": [
    {
     "data": {
      "text/plain": [
       "array([[ 555.647278],\n",
       "       [ 555.418152],\n",
       "       [ 554.42688 ],\n",
       "       ...,\n",
       "       [1017.150024],\n",
       "       [1049.619995],\n",
       "       [1050.959961]])"
      ]
     },
     "execution_count": 3,
     "metadata": {},
     "output_type": "execute_result"
    }
   ],
   "source": [
    "training_data = dataset_training[['Open']].values\n",
    "training_data"
   ]
  },
  {
   "cell_type": "code",
   "execution_count": 4,
   "metadata": {},
   "outputs": [
    {
     "data": {
      "text/plain": [
       "array([[0.08017394],\n",
       "       [0.07987932],\n",
       "       [0.07860471],\n",
       "       ...,\n",
       "       [0.67359064],\n",
       "       [0.71534169],\n",
       "       [0.71706467]])"
      ]
     },
     "execution_count": 4,
     "metadata": {},
     "output_type": "execute_result"
    }
   ],
   "source": [
    "from sklearn.preprocessing import MinMaxScaler\n",
    "sc = MinMaxScaler(feature_range = (0, 1))\n",
    "training_data_scaled = sc.fit_transform(training_data)\n",
    "\n",
    "training_data_scaled "
   ]
  },
  {
   "cell_type": "markdown",
   "metadata": {},
   "source": [
    "Create Data Time Stamps & Rehape the Data"
   ]
  },
  {
   "cell_type": "code",
   "execution_count": 5,
   "metadata": {},
   "outputs": [],
   "source": [
    "X_train = []\n",
    "y_train = []\n",
    "for i in range(60, 1258):\n",
    "    X_train.append(training_data_scaled[i-60:i, 0])\n",
    "    y_train.append(training_data_scaled[i, 0])\n",
    "X_train, y_train = np.array(X_train), np.array(y_train)"
   ]
  },
  {
   "cell_type": "code",
   "execution_count": 6,
   "metadata": {},
   "outputs": [
    {
     "data": {
      "text/plain": [
       "array([[[0.08017394],\n",
       "        [0.07987932],\n",
       "        [0.07860471],\n",
       "        ...,\n",
       "        [0.10999004],\n",
       "        [0.09405781],\n",
       "        [0.08533808]],\n",
       "\n",
       "       [[0.07987932],\n",
       "        [0.07860471],\n",
       "        [0.08628449],\n",
       "        ...,\n",
       "        [0.09405781],\n",
       "        [0.08533808],\n",
       "        [0.09263448]],\n",
       "\n",
       "       [[0.07860471],\n",
       "        [0.08628449],\n",
       "        [0.09973538],\n",
       "        ...,\n",
       "        [0.08533808],\n",
       "        [0.09263448],\n",
       "        [0.08214508]],\n",
       "\n",
       "       ...,\n",
       "\n",
       "       [[0.90856424],\n",
       "        [0.89708166],\n",
       "        [0.91513484],\n",
       "        ...,\n",
       "        [0.6712118 ],\n",
       "        [0.61797825],\n",
       "        [0.63740721]],\n",
       "\n",
       "       [[0.89708166],\n",
       "        [0.91513484],\n",
       "        [0.90270076],\n",
       "        ...,\n",
       "        [0.61797825],\n",
       "        [0.63740721],\n",
       "        [0.67359064]],\n",
       "\n",
       "       [[0.91513484],\n",
       "        [0.90270076],\n",
       "        [0.86691601],\n",
       "        ...,\n",
       "        [0.63740721],\n",
       "        [0.67359064],\n",
       "        [0.71534169]]])"
      ]
     },
     "execution_count": 6,
     "metadata": {},
     "output_type": "execute_result"
    }
   ],
   "source": [
    "X_train = np.reshape(X_train, (X_train.shape[0], X_train.shape[1], 1))\n",
    "X_train"
   ]
  },
  {
   "cell_type": "markdown",
   "metadata": {},
   "source": [
    "Create & Compile an RNN Architecure "
   ]
  },
  {
   "cell_type": "code",
   "execution_count": 7,
   "metadata": {},
   "outputs": [
    {
     "name": "stderr",
     "output_type": "stream",
     "text": [
      "Using TensorFlow backend.\n"
     ]
    }
   ],
   "source": [
    "from keras.models import Sequential\n",
    "from keras.layers import Dense\n",
    "from keras.layers import LSTM\n",
    "from keras.layers import Dropout"
   ]
  },
  {
   "cell_type": "code",
   "execution_count": 8,
   "metadata": {},
   "outputs": [],
   "source": [
    "seed = 1\n",
    "np.random.seed(seed)\n",
    "random.set_seed(seed)\n",
    "\n",
    "model = Sequential()"
   ]
  },
  {
   "cell_type": "code",
   "execution_count": 9,
   "metadata": {},
   "outputs": [],
   "source": [
    "model.add(LSTM(units = 100, return_sequences = True, input_shape = (X_train.shape[1], 1)))\n",
    "\n",
    "# Adding a second LSTM layer\n",
    "model.add(LSTM(units = 100, return_sequences = True))\n",
    "\n",
    "# Adding a third LSTM layer\n",
    "model.add(LSTM(units = 100, return_sequences = True))\n",
    "\n",
    "# Adding a fourth LSTM layer\n",
    "model.add(LSTM(units = 100))\n",
    "\n",
    "# Adding the output layer\n",
    "model.add(Dense(units = 1))"
   ]
  },
  {
   "cell_type": "code",
   "execution_count": 10,
   "metadata": {},
   "outputs": [
    {
     "name": "stdout",
     "output_type": "stream",
     "text": [
      "Epoch 1/100\n",
      "1198/1198 [==============================] - 10s 8ms/step - loss: 0.0247\n",
      "Epoch 2/100\n",
      "1198/1198 [==============================] - 8s 7ms/step - loss: 0.0023\n",
      "Epoch 3/100\n",
      "1198/1198 [==============================] - 8s 7ms/step - loss: 0.0020\n",
      "Epoch 4/100\n",
      "1198/1198 [==============================] - 8s 7ms/step - loss: 0.0022\n",
      "Epoch 5/100\n",
      "1198/1198 [==============================] - 8s 7ms/step - loss: 0.0021\n",
      "Epoch 6/100\n",
      "1198/1198 [==============================] - 8s 7ms/step - loss: 0.0018\n",
      "Epoch 7/100\n",
      "1198/1198 [==============================] - 8s 7ms/step - loss: 0.0018\n",
      "Epoch 8/100\n",
      "1198/1198 [==============================] - 8s 6ms/step - loss: 0.0018\n",
      "Epoch 9/100\n",
      "1198/1198 [==============================] - 7s 6ms/step - loss: 0.0018\n",
      "Epoch 10/100\n",
      "1198/1198 [==============================] - 8s 7ms/step - loss: 0.0016\n",
      "Epoch 11/100\n",
      "1198/1198 [==============================] - 8s 7ms/step - loss: 0.0017\n",
      "Epoch 12/100\n",
      "1198/1198 [==============================] - 8s 7ms/step - loss: 0.0015\n",
      "Epoch 13/100\n",
      "1198/1198 [==============================] - 8s 6ms/step - loss: 0.0018\n",
      "Epoch 14/100\n",
      "1198/1198 [==============================] - 8s 7ms/step - loss: 0.0018\n",
      "Epoch 15/100\n",
      "1198/1198 [==============================] - 8s 7ms/step - loss: 0.0015\n",
      "Epoch 16/100\n",
      "1198/1198 [==============================] - 8s 7ms/step - loss: 0.0014\n",
      "Epoch 17/100\n",
      "1198/1198 [==============================] - 9s 8ms/step - loss: 0.0017\n",
      "Epoch 18/100\n",
      "1198/1198 [==============================] - 9s 7ms/step - loss: 0.0014\n",
      "Epoch 19/100\n",
      "1198/1198 [==============================] - 8s 7ms/step - loss: 0.0013\n",
      "Epoch 20/100\n",
      "1198/1198 [==============================] - 8s 7ms/step - loss: 0.0014\n",
      "Epoch 21/100\n",
      "1198/1198 [==============================] - 8s 7ms/step - loss: 0.0013\n",
      "Epoch 22/100\n",
      "1198/1198 [==============================] - 8s 7ms/step - loss: 0.0013\n",
      "Epoch 23/100\n",
      "1198/1198 [==============================] - 9s 7ms/step - loss: 0.0012\n",
      "Epoch 24/100\n",
      "1198/1198 [==============================] - 8s 7ms/step - loss: 0.0011\n",
      "Epoch 25/100\n",
      "1198/1198 [==============================] - 8s 7ms/step - loss: 0.0012\n",
      "Epoch 26/100\n",
      "1198/1198 [==============================] - 9s 7ms/step - loss: 9.5686e-04\n",
      "Epoch 27/100\n",
      "1198/1198 [==============================] - 9s 7ms/step - loss: 8.9456e-04\n",
      "Epoch 28/100\n",
      "1198/1198 [==============================] - 9s 7ms/step - loss: 7.9295e-04\n",
      "Epoch 29/100\n",
      "1198/1198 [==============================] - 8s 7ms/step - loss: 7.3832e-04\n",
      "Epoch 30/100\n",
      "1198/1198 [==============================] - 8s 7ms/step - loss: 6.6932e-04\n",
      "Epoch 31/100\n",
      "1198/1198 [==============================] - 8s 7ms/step - loss: 6.6370e-04\n",
      "Epoch 32/100\n",
      "1198/1198 [==============================] - 9s 7ms/step - loss: 5.7375e-04\n",
      "Epoch 33/100\n",
      "1198/1198 [==============================] - 9s 7ms/step - loss: 6.0303e-04\n",
      "Epoch 34/100\n",
      "1198/1198 [==============================] - 8s 7ms/step - loss: 6.0253e-04\n",
      "Epoch 35/100\n",
      "1198/1198 [==============================] - 9s 7ms/step - loss: 5.3118e-04\n",
      "Epoch 36/100\n",
      "1198/1198 [==============================] - 8s 7ms/step - loss: 5.7481e-04\n",
      "Epoch 37/100\n",
      "1198/1198 [==============================] - 9s 7ms/step - loss: 5.0870e-04\n",
      "Epoch 38/100\n",
      "1198/1198 [==============================] - 9s 7ms/step - loss: 4.6937e-04\n",
      "Epoch 39/100\n",
      "1198/1198 [==============================] - 9s 7ms/step - loss: 5.4793e-04\n",
      "Epoch 40/100\n",
      "1198/1198 [==============================] - 8s 7ms/step - loss: 4.7844e-04\n",
      "Epoch 41/100\n",
      "1198/1198 [==============================] - 8s 7ms/step - loss: 5.0628e-04\n",
      "Epoch 42/100\n",
      "1198/1198 [==============================] - 8s 7ms/step - loss: 5.5704e-04\n",
      "Epoch 43/100\n",
      "1198/1198 [==============================] - 10s 9ms/step - loss: 8.5078e-04\n",
      "Epoch 44/100\n",
      "1198/1198 [==============================] - 8s 7ms/step - loss: 5.5907e-04\n",
      "Epoch 45/100\n",
      "1198/1198 [==============================] - 9s 8ms/step - loss: 4.8111e-04\n",
      "Epoch 46/100\n",
      "1198/1198 [==============================] - 8s 7ms/step - loss: 4.1522e-04\n",
      "Epoch 47/100\n",
      "1198/1198 [==============================] - 8s 7ms/step - loss: 4.3120e-04\n",
      "Epoch 48/100\n",
      "1198/1198 [==============================] - 9s 7ms/step - loss: 4.3615e-04\n",
      "Epoch 49/100\n",
      "1198/1198 [==============================] - 11s 9ms/step - loss: 3.9153e-04\n",
      "Epoch 50/100\n",
      "1198/1198 [==============================] - 10s 8ms/step - loss: 4.3033e-04\n",
      "Epoch 51/100\n",
      "1198/1198 [==============================] - 9s 8ms/step - loss: 4.8740e-04\n",
      "Epoch 52/100\n",
      "1198/1198 [==============================] - 8s 7ms/step - loss: 5.0494e-04\n",
      "Epoch 53/100\n",
      "1198/1198 [==============================] - 7s 6ms/step - loss: 4.7335e-04\n",
      "Epoch 54/100\n",
      "1198/1198 [==============================] - 7s 6ms/step - loss: 4.3932e-04\n",
      "Epoch 55/100\n",
      "1198/1198 [==============================] - 7s 6ms/step - loss: 5.5023e-04\n",
      "Epoch 56/100\n",
      "1198/1198 [==============================] - 7s 6ms/step - loss: 3.7223e-04\n",
      "Epoch 57/100\n",
      "1198/1198 [==============================] - 7s 6ms/step - loss: 3.6125e-04\n",
      "Epoch 58/100\n",
      "1198/1198 [==============================] - 7s 6ms/step - loss: 3.9494e-04\n",
      "Epoch 59/100\n",
      "1198/1198 [==============================] - 7s 6ms/step - loss: 4.5734e-04\n",
      "Epoch 60/100\n",
      "1198/1198 [==============================] - 6s 5ms/step - loss: 3.5636e-04\n",
      "Epoch 61/100\n",
      "1198/1198 [==============================] - 7s 6ms/step - loss: 4.0772e-04\n",
      "Epoch 62/100\n",
      "1198/1198 [==============================] - 7s 6ms/step - loss: 3.7693e-04\n",
      "Epoch 63/100\n",
      "1198/1198 [==============================] - 7s 6ms/step - loss: 4.5585e-04\n",
      "Epoch 64/100\n",
      "1198/1198 [==============================] - 7s 6ms/step - loss: 5.7649e-04\n",
      "Epoch 65/100\n",
      "1198/1198 [==============================] - 7s 6ms/step - loss: 3.5205e-04\n",
      "Epoch 66/100\n",
      "1198/1198 [==============================] - 7s 6ms/step - loss: 3.4316e-04\n",
      "Epoch 67/100\n",
      "1198/1198 [==============================] - 7s 6ms/step - loss: 3.6523e-04\n",
      "Epoch 68/100\n",
      "1198/1198 [==============================] - 8s 6ms/step - loss: 3.8854e-04\n",
      "Epoch 69/100\n",
      "1198/1198 [==============================] - 7s 6ms/step - loss: 3.9019e-04\n",
      "Epoch 70/100\n",
      "1198/1198 [==============================] - 7s 6ms/step - loss: 3.6586e-04\n",
      "Epoch 71/100\n",
      "1198/1198 [==============================] - 7s 6ms/step - loss: 3.4033e-04\n",
      "Epoch 72/100\n",
      "1198/1198 [==============================] - 8s 6ms/step - loss: 4.4857e-04\n",
      "Epoch 73/100\n",
      "1198/1198 [==============================] - 8s 6ms/step - loss: 3.9420e-04\n",
      "Epoch 74/100\n",
      "1198/1198 [==============================] - 7s 6ms/step - loss: 4.7882e-04\n",
      "Epoch 75/100\n",
      "1198/1198 [==============================] - 7s 6ms/step - loss: 4.6480e-04\n",
      "Epoch 76/100\n",
      "1198/1198 [==============================] - 7s 6ms/step - loss: 3.4606e-04\n",
      "Epoch 77/100\n",
      "1198/1198 [==============================] - 7s 6ms/step - loss: 3.6513e-04\n",
      "Epoch 78/100\n",
      "1198/1198 [==============================] - 7s 6ms/step - loss: 5.1642e-04\n",
      "Epoch 79/100\n",
      "1198/1198 [==============================] - 8s 7ms/step - loss: 5.5895e-04\n",
      "Epoch 80/100\n",
      "1198/1198 [==============================] - 9s 7ms/step - loss: 3.2005e-04\n",
      "Epoch 81/100\n",
      "1198/1198 [==============================] - 8s 7ms/step - loss: 3.7135e-04\n",
      "Epoch 82/100\n",
      "1198/1198 [==============================] - 7s 6ms/step - loss: 3.3243e-04\n",
      "Epoch 83/100\n",
      "1198/1198 [==============================] - 7s 6ms/step - loss: 3.3006e-04\n",
      "Epoch 84/100\n",
      "1198/1198 [==============================] - 8s 6ms/step - loss: 3.1016e-04\n",
      "Epoch 85/100\n",
      "1198/1198 [==============================] - 9s 8ms/step - loss: 4.4733e-04\n",
      "Epoch 86/100\n",
      "1198/1198 [==============================] - 7s 6ms/step - loss: 4.0368e-04\n",
      "Epoch 87/100\n",
      "1198/1198 [==============================] - 7s 5ms/step - loss: 3.5760e-04\n",
      "Epoch 88/100\n",
      "1198/1198 [==============================] - 7s 6ms/step - loss: 3.5340e-04\n",
      "Epoch 89/100\n",
      "1198/1198 [==============================] - 7s 6ms/step - loss: 4.3370e-04\n",
      "Epoch 90/100\n",
      "1198/1198 [==============================] - 9s 7ms/step - loss: 3.9906e-04\n",
      "Epoch 91/100\n",
      "1198/1198 [==============================] - 8s 7ms/step - loss: 3.4568e-04\n",
      "Epoch 92/100\n",
      "1198/1198 [==============================] - 8s 6ms/step - loss: 4.4254e-04\n",
      "Epoch 93/100\n",
      "1198/1198 [==============================] - 8s 7ms/step - loss: 5.0412e-04\n",
      "Epoch 94/100\n",
      "1198/1198 [==============================] - 7s 6ms/step - loss: 4.7203e-04\n",
      "Epoch 95/100\n",
      "1198/1198 [==============================] - 7s 6ms/step - loss: 4.1552e-04\n",
      "Epoch 96/100\n",
      "1198/1198 [==============================] - 7s 6ms/step - loss: 3.1223e-04\n",
      "Epoch 97/100\n",
      "1198/1198 [==============================] - 7s 6ms/step - loss: 3.5575e-04\n",
      "Epoch 98/100\n",
      "1198/1198 [==============================] - 7s 6ms/step - loss: 4.1858e-04\n",
      "Epoch 99/100\n",
      "1198/1198 [==============================] - 7s 6ms/step - loss: 3.3407e-04\n",
      "Epoch 100/100\n",
      "1198/1198 [==============================] - 7s 6ms/step - loss: 3.3999e-04\n"
     ]
    },
    {
     "data": {
      "text/plain": [
       "<keras.callbacks.callbacks.History at 0x141559fd0>"
      ]
     },
     "execution_count": 10,
     "metadata": {},
     "output_type": "execute_result"
    }
   ],
   "source": [
    "# Compiling the RNN\n",
    "model.compile(optimizer = 'adam', loss = 'mean_squared_error')\n",
    "\n",
    "# Fitting the RNN to the Training set\n",
    "model.fit(X_train, y_train, epochs = 100, batch_size = 32)"
   ]
  },
  {
   "cell_type": "markdown",
   "metadata": {},
   "source": [
    "Prepare the Test Data , Concatenate Test &  Train Datasets"
   ]
  },
  {
   "cell_type": "code",
   "execution_count": 11,
   "metadata": {},
   "outputs": [
    {
     "data": {
      "text/plain": [
       "array([[1016.570007],\n",
       "       [1041.      ],\n",
       "       [1032.589966],\n",
       "       [1071.5     ],\n",
       "       [1076.109985],\n",
       "       [1081.650024],\n",
       "       [1067.660034],\n",
       "       [1063.180054],\n",
       "       [1046.920044],\n",
       "       [1050.170044],\n",
       "       [1080.      ],\n",
       "       [1079.469971],\n",
       "       [1100.      ],\n",
       "       [1088.      ],\n",
       "       [1077.349976],\n",
       "       [1076.47998 ],\n",
       "       [1085.      ],\n",
       "       [1080.109985],\n",
       "       [1072.680054],\n",
       "       [1068.430054],\n",
       "       [1103.      ]])"
      ]
     },
     "execution_count": 11,
     "metadata": {},
     "output_type": "execute_result"
    }
   ],
   "source": [
    "dataset_testing = pd.read_csv(\"../GOOG_test.csv\")\n",
    "actual_stock_price = dataset_testing[['Open']].values\n",
    "actual_stock_price"
   ]
  },
  {
   "cell_type": "code",
   "execution_count": 12,
   "metadata": {},
   "outputs": [],
   "source": [
    "total_data = pd.concat((dataset_training['Open'], dataset_testing['Open']), axis = 0)\n",
    "inputs = total_data[len(total_data) - len(dataset_testing) - 60:].values\n",
    "inputs = inputs.reshape(-1,1)\n",
    "inputs = sc.transform(inputs)\n",
    "X_test = []\n",
    "for i in range(60, 81):\n",
    "    X_test.append(inputs[i-60:i, 0])\n",
    "X_test = np.array(X_test)\n",
    "X_test = np.reshape(X_test, (X_test.shape[0], X_test.shape[1], 1))\n",
    "predicted_stock_price = model.predict(X_test)\n",
    "predicted_stock_price = sc.inverse_transform(predicted_stock_price)"
   ]
  },
  {
   "cell_type": "markdown",
   "metadata": {},
   "source": [
    "Visualize the Results"
   ]
  },
  {
   "cell_type": "code",
   "execution_count": 13,
   "metadata": {},
   "outputs": [
    {
     "data": {
      "image/png": "[encoded data removed]",
      "text/plain": [
       "<Figure size 432x288 with 1 Axes>"
      ]
     },
     "metadata": {
      "needs_background": "light"
     },
     "output_type": "display_data"
    }
   ],
   "source": [
    "# Visualising the results\n",
    "plt.plot(actual_stock_price, color = 'green', label = 'Real Alphabet Stock Price',ls='--')\n",
    "plt.plot(predicted_stock_price, color = 'red', label = 'Predicted Alphabet Stock Price',ls='-')\n",
    "plt.title('Predicted Stock Price')\n",
    "plt.xlabel('Time in days')\n",
    "plt.ylabel('Real Stock Price')\n",
    "plt.legend()\n",
    "plt.show()"
   ]
  }
 ],
 "metadata": {
  "kernelspec": {
   "display_name": "Python 3",
   "language": "python",
   "name": "python3"
  },
  "language_info": {
   "codemirror_mode": {
    "name": "ipython",
    "version": 3
   },
   "file_extension": ".py",
   "mimetype": "text/x-python",
   "name": "python",
   "nbconvert_exporter": "python",
   "pygments_lexer": "ipython3",
   "version": "3.7.6"
  }
 },
 "nbformat": 4,
 "nbformat_minor": 4
}
