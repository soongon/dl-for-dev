{
 "cells": [
  {
   "cell_type": "code",
   "execution_count": null,
   "metadata": {},
   "outputs": [],
   "source": [
    "# Load the data\n",
    "import pandas as pd\n",
    "X = pd.read_csv('./data/tree_class_feats.csv')\n",
    "y = pd.read_csv('./data/tree_class_target.csv')\n",
    "\n",
    "# Split the dataset into training set and test set with a 80-20 ratio\n",
    "from sklearn.model_selection import train_test_split\n",
    "seed = 1\n",
    "X_train, X_test, y_train, y_test = train_test_split(X, y, test_size=0.2, random_state=seed)"
   ]
  },
  {
   "cell_type": "code",
   "execution_count": null,
   "metadata": {},
   "outputs": [],
   "source": [
    "#Define your model \n",
    "from keras.models import Sequential\n",
    "from keras.layers import Dense, Activation\n",
    "import numpy as np\n",
    "from tensorflow import random\n",
    "\n",
    "np.random.seed(seed)\n",
    "random.set_seed(seed)\n",
    "\n",
    "model_1 = Sequential()\n",
    "model_1.add(Dense(16, activation='relu', input_dim=X_train.shape[1]))\n",
    "model_1.add(Dense(12, activation='relu'))\n",
    "model_1.add(Dense(8, activation='relu'))\n",
    "model_1.add(Dense(4, activation='relu'))\n",
    "model_1.add(Dense(1, activation='sigmoid'))\n",
    "\n",
    "# Choose the loss function to be binary cross entropy and the optimizer to be SGD for training the model\n",
    "model_1.compile(optimizer='sgd', loss='binary_crossentropy')\n",
    "# train the model\n",
    "model_1.fit(X_train, y_train, epochs=300, batch_size=50, verbose=0, shuffle=False)\n",
    "# evaluate on test set\n",
    "print(\"Test Loss =\", model_1.evaluate(X_test, y_test))"
   ]
  },
  {
   "cell_type": "code",
   "execution_count": null,
   "metadata": {},
   "outputs": [],
   "source": [
    "# define the keras model with dropout in the first hidden layer\n",
    "from keras.layers import Dropout\n",
    "\n",
    "np.random.seed(seed)\n",
    "random.set_seed(seed)\n",
    "\n",
    "model_2 = Sequential()\n",
    "model_2.add(Dense(16, activation='relu', input_dim=X_train.shape[1]))\n",
    "model_2.add(Dropout(0.1))\n",
    "model_2.add(Dense(12, activation='relu'))\n",
    "model_2.add(Dense(8, activation='relu'))\n",
    "model_2.add(Dense(4, activation='relu'))\n",
    "model_2.add(Dense(1, activation='sigmoid'))\n",
    "\n",
    "# Choose the loss function to be binary cross entropy and the optimizer to be SGD for training the model\n",
    "model_2.compile(optimizer='sgd', loss='binary_crossentropy')\n",
    "# train the model\n",
    "model_2.fit(X_train, y_train, epochs=300, batch_size=50, verbose=0, shuffle=False)\n",
    "# evaluate on test set\n",
    "print(\"Test Loss =\", model_2.evaluate(X_test, y_test))"
   ]
  },
  {
   "cell_type": "code",
   "execution_count": null,
   "metadata": {},
   "outputs": [],
   "source": [
    "# define the keras model with dropout in all hidden layers\n",
    "np.random.seed(seed)\n",
    "random.set_seed(seed)\n",
    "\n",
    "model_3 = Sequential()\n",
    "model_3.add(Dense(16, activation='relu', input_dim=X_train.shape[1]))\n",
    "model_3.add(Dropout(0.2))\n",
    "model_3.add(Dense(12, activation='relu'))\n",
    "model_3.add(Dropout(0.1))\n",
    "model_3.add(Dense(8, activation='relu'))\n",
    "model_3.add(Dropout(0.1))\n",
    "model_3.add(Dense(4, activation='relu'))\n",
    "model_3.add(Dropout(0.1))\n",
    "model_3.add(Dense(1, activation='sigmoid'))\n",
    "\n",
    "# Choose the loss function to be binary cross entropy and the optimizer to be SGD for training the model\n",
    "model_3.compile(optimizer='sgd', loss='binary_crossentropy')\n",
    "# train the model\n",
    "model_3.fit(X_train, y_train, epochs=300, batch_size=50, verbose=0, shuffle=False)\n",
    "# evaluate on test set\n",
    "print(\"Test Loss =\", model_3.evaluate(X_test, y_test))"
   ]
  },
  {
   "cell_type": "code",
   "execution_count": null,
   "metadata": {},
   "outputs": [],
   "source": []
  }
 ],
 "metadata": {
  "kernelspec": {
   "display_name": "Python 3",
   "language": "python",
   "name": "python3"
  },
  "language_info": {
   "codemirror_mode": {
    "name": "ipython",
    "version": 3
   },
   "file_extension": ".py",
   "mimetype": "text/x-python",
   "name": "python",
   "nbconvert_exporter": "python",
   "pygments_lexer": "ipython3",
   "version": "3.7.6"
  }
 },
 "nbformat": 4,
 "nbformat_minor": 4
}
