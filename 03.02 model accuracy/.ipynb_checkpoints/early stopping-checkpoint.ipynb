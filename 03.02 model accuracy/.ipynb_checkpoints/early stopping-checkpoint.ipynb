{
 "cells": [
  {
   "cell_type": "code",
   "execution_count": null,
   "metadata": {},
   "outputs": [],
   "source": [
    "# Load the data\n",
    "import pandas as pd\n",
    "X = pd.read_csv('./data/tree_class_feats.csv')\n",
    "y = pd.read_csv('./data/tree_class_target.csv')\n",
    "\n",
    "# Split the dataset into training set and test set with a 80-20 ratio\n",
    "from sklearn.model_selection import train_test_split\n",
    "seed = 1\n",
    "X_train, X_test, y_train, y_test = train_test_split(X, y, test_size=0.2, random_state=seed)"
   ]
  },
  {
   "cell_type": "code",
   "execution_count": null,
   "metadata": {},
   "outputs": [],
   "source": [
    "# Define your model \n",
    "from keras.models import Sequential\n",
    "from keras.layers import Dense, Activation\n",
    "import numpy as np\n",
    "from tensorflow import random\n",
    "\n",
    "np.random.seed(seed)\n",
    "random.set_seed(seed)\n",
    "\n",
    "model_1 = Sequential()\n",
    "model_1.add(Dense(16, activation='relu', input_dim=X_train.shape[1]))\n",
    "model_1.add(Dense(8, activation='relu'))\n",
    "model_1.add(Dense(4, activation='relu'))\n",
    "model_1.add(Dense(1, activation='sigmoid'))\n",
    "\n",
    "# Choose the loss function to be binary cross entropy and the optimizer to be SGD for training the model\n",
    "model_1.compile(optimizer='sgd', loss='binary_crossentropy')\n",
    "# train the model\n",
    "history = model_1.fit(X_train, y_train, validation_data=(X_test, y_test), epochs=300, batch_size=50, verbose=0, shuffle=False)"
   ]
  },
  {
   "cell_type": "code",
   "execution_count": null,
   "metadata": {},
   "outputs": [],
   "source": [
    "# import require packages for plotting\n",
    "import matplotlib.pyplot as plt \n",
    "import matplotlib\n",
    "%matplotlib inline \n",
    "\n",
    "# plot training error and validation error\n",
    "matplotlib.rcParams['figure.figsize'] = (10.0, 8.0) \n",
    "plt.plot(history.history['loss'])\n",
    "plt.plot(history.history['val_loss'])\n",
    "plt.ylim(0,1)\n",
    "plt.ylabel('loss')\n",
    "plt.xlabel('epoch')\n",
    "plt.legend(['train loss', 'validation loss'], loc='upper right')"
   ]
  },
  {
   "cell_type": "code",
   "execution_count": null,
   "metadata": {},
   "outputs": [],
   "source": [
    "#Define your model with early stopping on test error\n",
    "from tensorflow.keras.callbacks import EarlyStopping\n",
    "np.random.seed(seed)\n",
    "random.set_seed(seed)\n",
    "\n",
    "model_2 = Sequential()\n",
    "model_2.add(Dense(16, activation='relu', input_dim=X_train.shape[1]))\n",
    "model_2.add(Dense(8, activation='relu'))\n",
    "model_2.add(Dense(4, activation='relu'))\n",
    "model_2.add(Dense(1, activation='sigmoid'))\n",
    "# Choose the loss function to be binary cross entropy and the optimizer to be SGD for training the model\n",
    "model_2.compile(optimizer='sgd', loss='binary_crossentropy')\n",
    "# define the early stopping callback\n",
    "es_callback = EarlyStopping(monitor='val_loss', mode='min')\n",
    "# train the model\n",
    "history=model_2.fit(X_train, y_train, validation_data=(X_test, y_test), epochs=300, batch_size=50, callbacks=[es_callback], verbose=0, shuffle=False)"
   ]
  },
  {
   "cell_type": "code",
   "execution_count": null,
   "metadata": {},
   "outputs": [],
   "source": [
    "# plot training error and test error\n",
    "matplotlib.rcParams['figure.figsize'] = (10.0, 8.0) \n",
    "plt.plot(history.history['loss'])\n",
    "plt.plot(history.history['val_loss'])\n",
    "plt.ylim(0,1)\n",
    "plt.ylabel('loss')\n",
    "plt.xlabel('epoch')\n",
    "plt.legend(['train loss', 'validation loss'], loc='upper right')"
   ]
  },
  {
   "cell_type": "code",
   "execution_count": null,
   "metadata": {},
   "outputs": [],
   "source": [
    "#Define your model with early stopping on test error with patience=10\n",
    "from tensorflow.keras.callbacks import EarlyStopping\n",
    "np.random.seed(seed)\n",
    "random.set_seed(seed)\n",
    "\n",
    "model_3 = Sequential()\n",
    "model_3.add(Dense(16, activation='relu', input_dim=X_train.shape[1]))\n",
    "model_3.add(Dense(8, activation='relu'))\n",
    "model_3.add(Dense(4, activation='relu'))\n",
    "model_3.add(Dense(1, activation='sigmoid'))\n",
    "# Choose the loss function to be binary cross entropy and the optimizer to be SGD for training the model\n",
    "model_3.compile(optimizer='sgd', loss='binary_crossentropy')\n",
    "# define the early stopping callback\n",
    "es_callback = EarlyStopping(monitor='val_loss', mode='min', patience=10)\n",
    "# train the model\n",
    "history=model_3.fit(X_train, y_train, validation_data=(X_test, y_test), epochs=300, batch_size=50, callbacks=[es_callback], verbose=0, shuffle=False)"
   ]
  },
  {
   "cell_type": "code",
   "execution_count": null,
   "metadata": {},
   "outputs": [],
   "source": [
    "# plot training error and test error\n",
    "matplotlib.rcParams['figure.figsize'] = (10.0, 8.0) \n",
    "plt.plot(history.history['loss'])\n",
    "plt.plot(history.history['val_loss'])\n",
    "plt.ylim(0,1)\n",
    "plt.ylabel('loss')\n",
    "plt.xlabel('epoch')\n",
    "plt.legend(['train loss', 'validation loss'], loc='upper right')"
   ]
  },
  {
   "cell_type": "code",
   "execution_count": null,
   "metadata": {},
   "outputs": [],
   "source": []
  }
 ],
 "metadata": {
  "kernelspec": {
   "display_name": "Python 3",
   "language": "python",
   "name": "python3"
  },
  "language_info": {
   "codemirror_mode": {
    "name": "ipython",
    "version": 3
   },
   "file_extension": ".py",
   "mimetype": "text/x-python",
   "name": "python",
   "nbconvert_exporter": "python",
   "pygments_lexer": "ipython3",
   "version": "3.7.6"
  }
 },
 "nbformat": 4,
 "nbformat_minor": 4
}
