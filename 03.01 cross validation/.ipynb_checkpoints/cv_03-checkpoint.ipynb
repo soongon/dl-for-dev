{
 "cells": [
  {
   "cell_type": "code",
   "execution_count": 1,
   "metadata": {},
   "outputs": [
    {
     "name": "stdout",
     "output_type": "stream",
     "text": [
      "Number of Examples in the Dataset =  908\n",
      "Number of Features for each example =  6\n",
      "Output Range = [0.053000, 9.612000]\n"
     ]
    }
   ],
   "source": [
    "# import data\n",
    "import pandas as pd\n",
    "import numpy as np\n",
    "\n",
    "colnames = ['CIC0', 'SM1_Dz(Z)', 'GATS1i', 'NdsCH', 'NdssC','MLOGP', 'LC50']\n",
    "data = pd.read_csv('../data/qsar_fish_toxicity.csv', sep=';', names=colnames)\n",
    "X = data.drop('LC50', axis=1)\n",
    "y = data['LC50']\n",
    "\n",
    "# Print the sizes of the dataset\n",
    "print(\"Number of Examples in the Dataset = \", X.shape[0])\n",
    "print(\"Number of Features for each example = \", X.shape[1])\n",
    "# print output range\n",
    "print(\"Output Range = [%f, %f]\" %(min(y), max(y)))"
   ]
  },
  {
   "cell_type": "code",
   "execution_count": 2,
   "metadata": {},
   "outputs": [
    {
     "name": "stderr",
     "output_type": "stream",
     "text": [
      "Using TensorFlow backend.\n"
     ]
    }
   ],
   "source": [
    "# Defne the Keras models\n",
    "from keras.models import Sequential\n",
    "from keras.layers import Dense\n",
    "\n",
    "def build_model_1():\n",
    "    # build the Keras model_1\n",
    "    model = Sequential()\n",
    "    model.add(Dense(4, input_dim=X.shape[1], activation='relu'))\n",
    "    model.add(Dense(1))\n",
    "    # Compile the model\n",
    "    model.compile(loss='mean_squared_error', optimizer='adam')\n",
    "    # return the model\n",
    "    return model\n",
    "\n",
    "def build_model_2():\n",
    "    # build the Keras model_2\n",
    "    model = Sequential()\n",
    "    model.add(Dense(8, input_dim=X.shape[1], activation='relu'))\n",
    "    model.add(Dense(1))\n",
    "    # Compile the model\n",
    "    model.compile(loss='mean_squared_error', optimizer='adam')\n",
    "    # return the model\n",
    "    return model\n",
    "\n",
    "def build_model_3():\n",
    "    # build the Keras model_3\n",
    "    model = Sequential()\n",
    "    model.add(Dense(4, input_dim=X.shape[1], activation='relu'))\n",
    "    model.add(Dense(2, activation='relu'))\n",
    "    model.add(Dense(1))\n",
    "    # Compile the model\n",
    "    model.compile(loss='mean_squared_error', optimizer='adam')\n",
    "    # return the model\n",
    "    return model"
   ]
  },
  {
   "cell_type": "code",
   "execution_count": 3,
   "metadata": {},
   "outputs": [],
   "source": [
    "# define a seed for random number generator so the result will be reproducible\n",
    "from tensorflow import random \n",
    "seed = 1\n",
    "np.random.seed(seed)\n",
    "random.set_seed(seed)\n",
    "\n",
    "# perform cross validation on each model\n",
    "from keras.wrappers.scikit_learn import KerasRegressor\n",
    "from sklearn.model_selection import KFold\n",
    "from sklearn.model_selection import cross_val_score\n",
    "results_1 = []\n",
    "models = [build_model_1, build_model_2, build_model_3]\n",
    "# loop over three models\n",
    "for m in range(len(models)):\n",
    "    model = KerasRegressor(build_fn=models[m], epochs=100, batch_size=20, verbose=0, shuffle=False)\n",
    "    kf = KFold(n_splits=3)\n",
    "    result = cross_val_score(model, X, y, cv=kf)\n",
    "    results_1.append(result)"
   ]
  },
  {
   "cell_type": "code",
   "execution_count": 4,
   "metadata": {},
   "outputs": [
    {
     "name": "stdout",
     "output_type": "stream",
     "text": [
      "Cross Validation Loss for Model 1 = 1.0304891858847403\n",
      "Cross Validation Loss for Model 2 = 0.9583476809877253\n",
      "Cross Validation Loss for Model 3 = 1.7218542151593959\n"
     ]
    }
   ],
   "source": [
    "# print the cross validation scores\n",
    "print(\"Cross Validation Loss for Model 1 =\", abs(results_1[0].mean()))\n",
    "print(\"Cross Validation Loss for Model 2 =\", abs(results_1[1].mean()))\n",
    "print(\"Cross Validation Loss for Model 3 =\", abs(results_1[2].mean()))"
   ]
  },
  {
   "cell_type": "code",
   "execution_count": 5,
   "metadata": {},
   "outputs": [],
   "source": [
    "# define a seed for random number generator so the result will be reproducible\n",
    "np.random.seed(seed)\n",
    "random.set_seed(seed)\n",
    "results_2 = []\n",
    "epochs = [100, 150]\n",
    "batches = [20, 15]\n",
    "\n",
    "# Loop over pairs of epochs and batch_size\n",
    "for e in range(len(epochs)):\n",
    "    for b in range(len(batches)):\n",
    "        model = KerasRegressor(build_fn= build_model_2, epochs= epochs[e], batch_size= batches[b], verbose=0, shuffle=False)\n",
    "        kf = KFold(n_splits=3)\n",
    "        result = cross_val_score(model, X, y, cv=kf)\n",
    "        results_2.append(result)"
   ]
  },
  {
   "cell_type": "code",
   "execution_count": 6,
   "metadata": {},
   "outputs": [
    {
     "name": "stdout",
     "output_type": "stream",
     "text": [
      "batch_size = 20 , epochs = 100 , Test Loss = 0.9574524474039251\n",
      "batch_size = 15 , epochs = 100 , Test Loss = 0.9478728140969382\n",
      "batch_size = 20 , epochs = 150 , Test Loss = 0.8896153777520778\n",
      "batch_size = 15 , epochs = 150 , Test Loss = 0.9501340622995701\n"
     ]
    }
   ],
   "source": [
    "# Print cross validation score for each possible pair of epochs, batch_size\n",
    "c = 0\n",
    "for e in range(len(epochs)):\n",
    "    for b in range(len(batches)):\n",
    "        print(\"batch_size =\", batches[b],\", epochs =\", epochs[e], \", Test Loss =\", abs(results_2[c].mean()))\n",
    "        c += 1"
   ]
  },
  {
   "cell_type": "code",
   "execution_count": 7,
   "metadata": {},
   "outputs": [],
   "source": [
    "# Modify build_model_2 function\n",
    "def build_model_2(activation='relu', optimizer='adam'):\n",
    "    # build the Keras model_2\n",
    "    model = Sequential()\n",
    "    model.add(Dense(8, input_dim=X.shape[1], activation=activation))\n",
    "    model.add(Dense(1))\n",
    "    # Compile the model\n",
    "    model.compile(loss='mean_squared_error', optimizer=optimizer)\n",
    "    # return the model\n",
    "    return model\n",
    "\n",
    "results_3 = []\n",
    "activations = ['relu', 'tanh']\n",
    "optimizers = ['sgd', 'adam', 'rmsprop']\n",
    "\n",
    "# define a seed for random number generator so the result will be reproducible\n",
    "np.random.seed(seed)\n",
    "random.set_seed(seed)\n",
    "# Loop over pairs of activation and optimizer\n",
    "for o in range(len(optimizers)):\n",
    "    for a in range(len(activations)):\n",
    "        optimizer = optimizers[o]\n",
    "        activation = activations[a]\n",
    "        model = KerasRegressor(build_fn= build_model_2, epochs=100, batch_size=20, verbose=0, shuffle=False)\n",
    "        kf = KFold(n_splits=3)\n",
    "        result = cross_val_score(model, X, y, cv=kf)\n",
    "        results_3.append(result)"
   ]
  },
  {
   "cell_type": "code",
   "execution_count": 8,
   "metadata": {},
   "outputs": [
    {
     "name": "stdout",
     "output_type": "stream",
     "text": [
      "activation =  relu , optimizer =  sgd , Test Loss =  0.9575929883722436\n",
      "activation =  tanh , optimizer =  sgd , Test Loss =  0.9583991325450517\n",
      "activation =  relu , optimizer =  adam , Test Loss =  0.9003895352626167\n",
      "activation =  tanh , optimizer =  adam , Test Loss =  0.9860042032158066\n",
      "activation =  relu , optimizer =  rmsprop , Test Loss =  0.9364833819585648\n",
      "activation =  tanh , optimizer =  rmsprop , Test Loss =  0.9719708495282869\n"
     ]
    }
   ],
   "source": [
    "# Print cross validation score for each possible pair of optimizer, activation\n",
    "c = 0\n",
    "for o in range(len(optimizers)):\n",
    "    for a in range(len(activations)):\n",
    "        print(\"activation = \", activations[a],\", optimizer = \", optimizers[o], \", Test Loss = \", abs(results_3[c].mean()))\n",
    "        c += 1"
   ]
  }
 ],
 "metadata": {
  "kernelspec": {
   "display_name": "py3.7",
   "language": "python",
   "name": "py3.7"
  },
  "language_info": {
   "codemirror_mode": {
    "name": "ipython",
    "version": 3
   },
   "file_extension": ".py",
   "mimetype": "text/x-python",
   "name": "python",
   "nbconvert_exporter": "python",
   "pygments_lexer": "ipython3",
   "version": "3.7.2"
  }
 },
 "nbformat": 4,
 "nbformat_minor": 2
}
